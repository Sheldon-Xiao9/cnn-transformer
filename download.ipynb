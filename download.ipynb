{
 "cells": [
  {
   "cell_type": "markdown",
   "metadata": {},
   "source": [
    "# Download GitHub Repository and Kaggle Dataset"
   ]
  },
  {
   "cell_type": "code",
   "execution_count": null,
   "metadata": {},
   "outputs": [],
   "source": [
    "!git clone https://github.com/Sheldon-Xiao9/cnn-transformer.git"
   ]
  },
  {
   "cell_type": "code",
   "execution_count": null,
   "metadata": {},
   "outputs": [],
   "source": [
    "%pip install -r cnn-transformer/requirements.txt"
   ]
  },
  {
   "cell_type": "code",
   "execution_count": null,
   "metadata": {},
   "outputs": [],
   "source": [
    "import kagglehub\n",
    "\n",
    "# Download latest version\n",
    "path = kagglehub.dataset_download(\"sheldonhomes/faceforensics-c23-processed\")\n",
    "print(path)"
   ]
  },
  {
   "cell_type": "code",
   "execution_count": null,
   "metadata": {},
   "outputs": [],
   "source": [
    "!mkdir /kaggle/input/"
   ]
  },
  {
   "cell_type": "code",
   "execution_count": null,
   "metadata": {},
   "outputs": [],
   "source": [
    "!ln -s $path /kaggle/input/"
   ]
  },
  {
   "cell_type": "code",
   "execution_count": null,
   "metadata": {},
   "outputs": [],
   "source": [
    "%pip install -r requirements.txt"
   ]
  },
  {
   "cell_type": "code",
   "execution_count": null,
   "metadata": {},
   "outputs": [],
   "source": [
    "# train command\n",
    "!cd /cnn-transformer\n",
    "!python train.py \\\n",
    "  --root /kaggle/input/ \\\n",
    "  --output /kaggle/working/ \\\n",
    "  --batch-size 8 \\\n",
    "  --epochs 5 \\\n",
    "  --frame-count 24 \\\n",
    "  --lr 1e-4 \\\n",
    "  --dim 128 \\\n",
    "  --visualize \\\n",
    "  --accum-steps 4 \\\n",
    "  --multi-gpu\n",
    "!python train.py --root /root/ --output /root/cnn-transformer/output --batch-size 8 --epochs 30 --frame-count 24 --lr 1e-4 --dim 128 --visualize --accum-steps 4 --multi-gpu"
   ]
  }
 ],
 "metadata": {
  "kernelspec": {
   "display_name": ".venv-dl",
   "language": "python",
   "name": "python3"
  },
  "language_info": {
   "name": "python",
   "version": "3.12.9"
  }
 },
 "nbformat": 4,
 "nbformat_minor": 2
}
